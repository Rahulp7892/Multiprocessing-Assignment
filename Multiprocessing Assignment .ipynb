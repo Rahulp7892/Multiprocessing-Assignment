{
 "cells": [
  {
   "cell_type": "code",
   "execution_count": 1,
   "id": "1bcf50e9-d360-483a-8dd0-65667094d827",
   "metadata": {},
   "outputs": [],
   "source": [
    "#Q.1 What is multiprocessing in python? Why os it useful?"
   ]
  },
  {
   "cell_type": "code",
   "execution_count": null,
   "id": "bde5cde5-eaca-49c4-a5e4-0808ca67b813",
   "metadata": {},
   "outputs": [],
   "source": [
    "#Multiprocessing in Python is a technique that allows a program to run multiple processes concurrently. Unlike multithreading, which involves multiple threads within a single process, multiprocessing involves running multiple processes, each with its own Python interpreter and memory space.\n",
    "\n",
    "The multiprocessing module in Python provides a way to create and manage processes, offering a parallelism model that can bypass the limitations of the Global Interpreter Lock (GIL) in CPython, the most commonly used Python interpreter."
   ]
  },
  {
   "cell_type": "code",
   "execution_count": null,
   "id": "136f7fd8-3ad6-4f27-92f4-94e92413da9c",
   "metadata": {},
   "outputs": [],
   "source": [
    "Why is Multiprocessing Useful?\n",
    "Bypassing the Global Interpreter Lock (GIL):\n",
    "\n",
    "Python’s GIL prevents multiple native threads from executing Python bytecodes simultaneously. This can limit the performance of CPU-bound tasks in a multithreaded program. Multiprocessing avoids this issue by running separate processes, each with its own Python interpreter and memory space, allowing true parallelism on multi-core processors."
   ]
  },
  {
   "cell_type": "code",
   "execution_count": 2,
   "id": "abdbeb2b-e3ff-4de1-a399-1bbd01cc47fa",
   "metadata": {},
   "outputs": [
    {
     "name": "stdout",
     "output_type": "stream",
     "text": [
      "Worker process running\n"
     ]
    }
   ],
   "source": [
    "from multiprocessing import Process\n",
    "\n",
    "def worker():\n",
    "    print(\"Worker process running\")\n",
    "\n",
    "p = Process(target=worker)\n",
    "p.start()\n",
    "p.join()"
   ]
  },
  {
   "cell_type": "code",
   "execution_count": 3,
   "id": "e0d862a9-378a-40da-9b2a-aab14a93fa5f",
   "metadata": {},
   "outputs": [
    {
     "name": "stdout",
     "output_type": "stream",
     "text": [
      "Squares: [0, 1, 4, 9, 16, 25, 36, 49, 64, 81]\n"
     ]
    }
   ],
   "source": [
    "from multiprocessing import Pool\n",
    "\n",
    "def square(n):\n",
    "    return n * n\n",
    "\n",
    "with Pool(4) as pool:\n",
    "    results = pool.map(square, range(10))\n",
    "\n",
    "print(\"Squares:\", results)"
   ]
  },
  {
   "cell_type": "code",
   "execution_count": 6,
   "id": "609b446b-3e53-45be-8930-4eb63351301c",
   "metadata": {},
   "outputs": [
    {
     "name": "stdout",
     "output_type": "stream",
     "text": [
      "Hello from process\n"
     ]
    }
   ],
   "source": [
    "from multiprocessing import Process, Queue\n",
    "\n",
    "def worker(q):\n",
    "    q.put(\"Hello from process\")\n",
    "\n",
    "q = Queue()\n",
    "p = Process(target=worker, args=(q,))\n",
    "p.start()\n",
    "p.join()\n",
    "message = q.get()\n",
    "print(message)"
   ]
  },
  {
   "cell_type": "code",
   "execution_count": 5,
   "id": "e40df83d-103e-4ee3-bd96-27ea3ff389fd",
   "metadata": {},
   "outputs": [
    {
     "name": "stdout",
     "output_type": "stream",
     "text": [
      "Hello from process\n"
     ]
    }
   ],
   "source": [
    "from multiprocessing import Process, Pipe\n",
    "\n",
    "def worker(conn):\n",
    "    conn.send(\"Hello from process\")\n",
    "    conn.close()\n",
    "\n",
    "parent_conn, child_conn = Pipe()\n",
    "p = Process(target=worker, args=(child_conn,))\n",
    "p.start()\n",
    "p.join()\n",
    "\n",
    "message = parent_conn.recv()\n",
    "print(message)"
   ]
  },
  {
   "cell_type": "code",
   "execution_count": 7,
   "id": "89892d2e-e853-4a18-8408-99369cd4f555",
   "metadata": {},
   "outputs": [],
   "source": [
    "#Q.2 What are the difference between multiprocessing and multithreading?"
   ]
  },
  {
   "cell_type": "code",
   "execution_count": null,
   "id": "03ee3f8b-7996-43ef-8a47-ab315b8a6afb",
   "metadata": {},
   "outputs": [],
   "source": [
    "Definition:\n",
    "\n",
    "Multiprocessing: Involves running multiple processes concurrently. Each process has its own memory space and resources. It is suitable for tasks that require substantial computation and can benefit from parallel execution."
   ]
  },
  {
   "cell_type": "code",
   "execution_count": null,
   "id": "adbefca1-a736-423c-b915-23b2b4d15efa",
   "metadata": {},
   "outputs": [],
   "source": [
    "Multithreading: Involves running multiple threads within a single process. Threads share the same memory space and resources. It is generally used for tasks that involve waiting or I/O operations."
   ]
  },
  {
   "cell_type": "code",
   "execution_count": null,
   "id": "5b1e5148-de2c-431e-9b06-55d0f6e6e135",
   "metadata": {},
   "outputs": [],
   "source": [
    "#Summary Table\n",
    "Aspect\tMultiprocessing\tMultithreading\n",
    "Definition\tMultiple processes, each with its own memory space.\tMultiple threads within a single process.\n",
    "Memory Management\tSeparate memory for each process.\tShared memory space among threads.\n",
    "Global Interpreter Lock\tNot affected by GIL.\tAffected by GIL in CPython.\n",
    "Use Cases\tCPU-bound tasks, parallel execution.\tI/O-bound tasks, maintaining responsiveness.\n",
    "Communication\tUses IPC (pipes, queues, shared memory).\tUses shared memory for communication.\n",
    "Overhead\tHigher, due to process management.\tLower, due to shared resources.\n",
    "Fault Tolerance\tProcesses are isolated; failure in one does not affect others.\tThreads share the same process; failure can affect the whole process.\n",
    "Performance\tBetter for CPU-bound tasks; avoids GIL limitation.\tBetter for I/O-bound tasks; limited for CPU-bound due to GIL."
   ]
  },
  {
   "cell_type": "code",
   "execution_count": 8,
   "id": "45b2b82c-b556-4d91-9e43-b9c03e339a63",
   "metadata": {},
   "outputs": [],
   "source": [
    "#Q.3 Write a python code to create a process using the multiprocessing module."
   ]
  },
  {
   "cell_type": "code",
   "execution_count": 13,
   "id": "85b8d900-1a01-437c-8572-5ed30c9854cf",
   "metadata": {},
   "outputs": [
    {
     "name": "stdout",
     "output_type": "stream",
     "text": [
      "Worker 0 starting\n",
      "Worker 1 starting\n",
      "Worker 2 starting\n",
      "Worker 3 starting\n",
      "Worker 4 starting\n",
      "Worker 0 finished\n",
      "Worker 1 finished\n",
      "Worker 2 finished\n",
      "Worker 3 finished\n",
      "Worker 4 finished\n",
      "All processes have finished.\n"
     ]
    }
   ],
   "source": [
    "import multiprocessing\n",
    "import time\n",
    "\n",
    "def worker(num):\n",
    "    print(f'Worker {num} starting')\n",
    "    time.sleep(2)  \n",
    "    print(f'Worker {num} finished')\n",
    "\n",
    "if __name__ == '__main__':\n",
    "    \n",
    "    processes = []\n",
    "\n",
    "    for i in range(5):\n",
    "        process = multiprocessing.Process(target=worker, args=(i,))\n",
    "        processes.append(process)\n",
    "        process.start()\n",
    "\n",
    "    for process in processes:\n",
    "        process.join()\n",
    "\n",
    "    print('All processes have finished.')"
   ]
  },
  {
   "cell_type": "code",
   "execution_count": 14,
   "id": "310f41a8-7f52-4dbb-8277-e6b3b8273b02",
   "metadata": {},
   "outputs": [],
   "source": [
    "#Q.4 What is a multiprocessing pool in python? Why is it used?"
   ]
  },
  {
   "cell_type": "code",
   "execution_count": null,
   "id": "71158ad5-40ec-43e5-8dc6-180372041d32",
   "metadata": {},
   "outputs": [],
   "source": [
    "Key Concepts\n",
    "Pool:\n",
    "\n",
    "A pool of worker processes is created, and tasks are distributed among these workers. The pool manages the processes and handles the distribution of work.\n",
    "Concurrency:\n",
    "\n",
    "By using a pool, you can take advantage of multiple CPU cores to perform tasks concurrently, which can significantly speed up processing for CPU-bound tasks."
   ]
  },
  {
   "cell_type": "code",
   "execution_count": null,
   "id": "15e8815a-641f-47f4-aa60-39d905c40651",
   "metadata": {},
   "outputs": [],
   "source": [
    "Task Distribution:\n",
    "\n",
    "The pool automatically handles the distribution of tasks to available workers, allowing you to focus on defining the tasks rather than managing the process lifecycle.\n",
    "Result Collection:\n",
    "\n",
    "The pool provides mechanisms to collect results from the worker processes and handle them as needed."
   ]
  },
  {
   "cell_type": "code",
   "execution_count": null,
   "id": "9a7ffd89-5b97-4d2b-a96b-6fbcc2174101",
   "metadata": {},
   "outputs": [],
   "source": [
    "Why Use a Multiprocessing Pool?\n",
    "Efficiency:\n",
    "\n",
    "Managing a pool of worker processes can be more efficient than creating and destroying individual processes repeatedly, especially for tasks that are frequently executed.\n",
    "Simplifies Code:\n",
    "\n",
    "Using a pool abstracts away many details related to process management, making your code simpler and easier to understand."
   ]
  },
  {
   "cell_type": "code",
   "execution_count": null,
   "id": "c855077c-9e66-46ee-a8a5-e5ac1de62020",
   "metadata": {},
   "outputs": [],
   "source": [
    "Load Balancing:\n",
    "\n",
    "The pool automatically balances the workload among available workers, optimizing the use of system resources."
   ]
  },
  {
   "cell_type": "code",
   "execution_count": 16,
   "id": "347049ca-f93b-4d06-bd53-20c431b82172",
   "metadata": {},
   "outputs": [
    {
     "name": "stdout",
     "output_type": "stream",
     "text": [
      "Results: [1, 4, 9, 16, 25]\n"
     ]
    }
   ],
   "source": [
    "import multiprocessing\n",
    "import time\n",
    "\n",
    "def square(number):\n",
    "    time.sleep(1) \n",
    "    return number * number\n",
    "\n",
    "if __name__ == '__main__':\n",
    "    numbers = [1, 2, 3, 4, 5]  \n",
    "\n",
    "\n",
    "    with multiprocessing.Pool(processes=4) as pool:\n",
    "    \n",
    "        results = pool.map(square, numbers)\n",
    "\n",
    "    \n",
    "    print('Results:', results)"
   ]
  },
  {
   "cell_type": "code",
   "execution_count": 17,
   "id": "a1d08d05-91dd-4c51-84e6-1496165b0fea",
   "metadata": {},
   "outputs": [],
   "source": [
    "#Q.5 How can we create a pool of worker processes in python using the multiprocessing module?"
   ]
  },
  {
   "cell_type": "code",
   "execution_count": 18,
   "id": "d5e29ddb-3723-48d7-af5c-69ac833c98b2",
   "metadata": {},
   "outputs": [],
   "source": [
    "import multiprocessing"
   ]
  },
  {
   "cell_type": "code",
   "execution_count": 19,
   "id": "ea4719d3-03d7-4a2f-aa48-2e124f1753fe",
   "metadata": {},
   "outputs": [],
   "source": [
    "def worker_function(x):\n",
    "    return x * x  # Example task: square the input"
   ]
  },
  {
   "cell_type": "code",
   "execution_count": 20,
   "id": "cb0d5895-ae90-4799-95a1-a937775edd51",
   "metadata": {},
   "outputs": [
    {
     "name": "stdout",
     "output_type": "stream",
     "text": [
      "Results: [1, 4, 9, 16, 25]\n"
     ]
    }
   ],
   "source": [
    "if __name__ == '__main__':\n",
    "    # Create a Pool with 4 worker processes\n",
    "    with multiprocessing.Pool(processes=4) as pool:\n",
    "        # Define the input data\n",
    "        data = [1, 2, 3, 4, 5]\n",
    "\n",
    "        # Use the pool to map the worker function to the data\n",
    "        results = pool.map(worker_function, data)\n",
    "\n",
    "        # Print the results\n",
    "        print('Results:', results)"
   ]
  },
  {
   "cell_type": "code",
   "execution_count": null,
   "id": "76c6c596-ee7e-46ba-b66e-ff682dbb6384",
   "metadata": {},
   "outputs": [],
   "source": [
    "result = pool.apply(worker_function, args=(10,))"
   ]
  },
  {
   "cell_type": "code",
   "execution_count": null,
   "id": "4df8df8d-ac83-4384-b738-11268c1aa723",
   "metadata": {},
   "outputs": [],
   "source": []
  },
  {
   "cell_type": "code",
   "execution_count": null,
   "id": "a3ad3453-404f-47fd-97dc-b518488eea38",
   "metadata": {},
   "outputs": [],
   "source": [
    "result = pool.apply_async(worker_function, args=(10,))\n",
    "print(result.get())  # Retrieve the result"
   ]
  },
  {
   "cell_type": "code",
   "execution_count": null,
   "id": "3498488d-1e5b-4470-9885-a7404ec132a5",
   "metadata": {},
   "outputs": [],
   "source": [
    "def add(x, y):\n",
    "    return x + y\n",
    "\n",
    "results = pool.starmap(add, [(1, 2), (3, 4), (5, 6)])"
   ]
  },
  {
   "cell_type": "code",
   "execution_count": null,
   "id": "87db406e-f510-4fee-b454-66c07b1dfa84",
   "metadata": {},
   "outputs": [],
   "source": [
    "results = pool.imap(worker_function, data)"
   ]
  },
  {
   "cell_type": "code",
   "execution_count": null,
   "id": "d4d568d6-f5b6-4d6f-b801-01203ffd3e1e",
   "metadata": {},
   "outputs": [],
   "source": [
    "results = pool.imap_unordered(worker_function, data)"
   ]
  },
  {
   "cell_type": "code",
   "execution_count": 25,
   "id": "1f6a7d57-f70e-45a5-bc6a-2041d7ef75ea",
   "metadata": {},
   "outputs": [],
   "source": [
    "#Q.6 Write a python program to create a processes, each process should print a different number using the multiprocessing module in python."
   ]
  },
  {
   "cell_type": "code",
   "execution_count": 26,
   "id": "b9c69a31-bed4-4169-b976-11e7ee060b12",
   "metadata": {},
   "outputs": [
    {
     "name": "stdout",
     "output_type": "stream",
     "text": [
      "Process 1 printing number: 1\n",
      "Process 2 printing number: 2\n",
      "Process 3 printing number: 3\n",
      "Process 4 printing number: 4\n",
      "All processes have finished.\n"
     ]
    }
   ],
   "source": [
    "import multiprocessing\n",
    "\n",
    "def print_number(number):\n",
    "    print(f'Process {number} printing number: {number}')\n",
    "\n",
    "if __name__ == '__main__':\n",
    "    \n",
    "    numbers = [1, 2, 3, 4]\n",
    "    \n",
    "    \n",
    "    processes = []\n",
    "\n",
    "    \n",
    "    for num in numbers:\n",
    "        \n",
    "        process = multiprocessing.Process(target=print_number, args=(num,))\n",
    "        \n",
    "    \n",
    "        process.start()\n",
    "        \n",
    "        \n",
    "        processes.append(process)\n",
    "    \n",
    "\n",
    "    for process in processes:\n",
    "        process.join()\n",
    "    \n",
    "    print('All processes have finished.')\n"
   ]
  },
  {
   "cell_type": "code",
   "execution_count": null,
   "id": "971f2538-b785-4c5c-953e-6ad4add32df7",
   "metadata": {},
   "outputs": [],
   "source": []
  }
 ],
 "metadata": {
  "kernelspec": {
   "display_name": "Python 3 (ipykernel)",
   "language": "python",
   "name": "python3"
  },
  "language_info": {
   "codemirror_mode": {
    "name": "ipython",
    "version": 3
   },
   "file_extension": ".py",
   "mimetype": "text/x-python",
   "name": "python",
   "nbconvert_exporter": "python",
   "pygments_lexer": "ipython3",
   "version": "3.10.8"
  }
 },
 "nbformat": 4,
 "nbformat_minor": 5
}
